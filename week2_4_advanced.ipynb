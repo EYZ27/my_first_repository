{
  "nbformat": 4,
  "nbformat_minor": 0,
  "metadata": {
    "colab": {
      "provenance": [],
      "authorship_tag": "ABX9TyNsQWRIoUIphC7N1tMb9GHo",
      "include_colab_link": true
    },
    "kernelspec": {
      "name": "python3",
      "display_name": "Python 3"
    },
    "language_info": {
      "name": "python"
    }
  },
  "cells": [
    {
      "cell_type": "markdown",
      "metadata": {
        "id": "view-in-github",
        "colab_type": "text"
      },
      "source": [
        "<a href=\"https://colab.research.google.com/github/EYZ27/my_first_repository/blob/main/week2_4_advanced.ipynb\" target=\"_parent\"><img src=\"https://colab.research.google.com/assets/colab-badge.svg\" alt=\"Open In Colab\"/></a>"
      ]
    },
    {
      "cell_type": "code",
      "execution_count": 1,
      "metadata": {
        "id": "PEf2Fw68JEED"
      },
      "outputs": [],
      "source": [
        "\"\"\"\n",
        "사전정의 데이터 셀\n",
        "\"\"\"\n",
        "\n",
        "members = [\n",
        "    {\n",
        "        '성': '김',\n",
        "        '이름': '이팝',\n",
        "        '소속': '나무팀',\n",
        "        '국적': '대한민국',\n",
        "        '나이': 40,\n",
        "    },\n",
        "    {\n",
        "        '성': '김',\n",
        "        '이름': '단풍',\n",
        "        '소속': '나무팀',\n",
        "        '국적': '대한민국',\n",
        "        '나이': 29,\n",
        "    },\n",
        "    {\n",
        "        '성': '이',\n",
        "        '이름': '버들',\n",
        "        '소속': '나무팀',\n",
        "        '국적': '대한민국',\n",
        "        '나이': 34,\n",
        "    },\n",
        "    {\n",
        "        '성': '박',\n",
        "        '이름': '바오밥',\n",
        "        '소속': '나무팀',\n",
        "        '국적': '대한민국',\n",
        "        '나이': 27,\n",
        "    },\n",
        "    {\n",
        "        '성': 'May',\n",
        "        '이름': 'Blossom',\n",
        "        '소속': '나무팀',\n",
        "        '국적': '미국',\n",
        "        '나이': 28,\n",
        "    },\n",
        "    {\n",
        "        '성': '김',\n",
        "        '이름': '샤프란',\n",
        "        '소속': '꽃팀',\n",
        "        '국적': '대한민국',\n",
        "        '나이': 42,\n",
        "    },\n",
        "    {\n",
        "        '성': '김',\n",
        "        '이름': '튤립',\n",
        "        '소속': '꽃팀',\n",
        "        '국적': '대한민국',\n",
        "        '나이': 37,\n",
        "    },\n",
        "    {\n",
        "        '성': '박',\n",
        "        '이름': '수선화',\n",
        "        '소속': '꽃팀',\n",
        "        '국적': '대한민국',\n",
        "        '나이': 33,\n",
        "    },\n",
        "    {\n",
        "        '성': '박',\n",
        "        '이름': '앵초',\n",
        "        '소속': '꽃팀',\n",
        "        '국적': '대한민국',\n",
        "        '나이': 28,\n",
        "    },\n",
        "    {\n",
        "        '성': 'Sharon',\n",
        "        '이름': 'Rose',\n",
        "        '소속': '꽃팀',\n",
        "        '국적': '미국',\n",
        "        '나이': 23,\n",
        "    },\n",
        "    {\n",
        "        '성': '최',\n",
        "        '이름': '매실',\n",
        "        '소속': '열매팀',\n",
        "        '국적': '대한민국',\n",
        "        '나이': 50,\n",
        "    },\n",
        "    {\n",
        "        '성': '이',\n",
        "        '이름': '자두',\n",
        "        '소속': '열매팀',\n",
        "        '국적': '대한민국',\n",
        "        '나이': 33,\n",
        "    },\n",
        "    {\n",
        "        '성': '임',\n",
        "        '이름': '키위',\n",
        "        '소속': '열매팀',\n",
        "        '국적': '대한민국',\n",
        "        '나이': 26,\n",
        "    },\n",
        "]\n",
        "\n",
        "team_prefix = {\n",
        "    '나무팀': '파릇파릇한',\n",
        "    '꽃팀': '향긋한',\n",
        "    '열매팀': '달콤한',\n",
        "}"
      ]
    },
    {
      "cell_type": "markdown",
      "source": [
        "## [Q1] 사전정의 데이터를 이용하여 다음의 문제들을 풀어주세요.\n",
        "\n",
        "### [Q1-1] 나무팀, 꽃팀, 열매팀 별 나이의 평균을 계산하는 코드를 작성해주세요.\n",
        "\n",
        "### 참고사항\n",
        "\n",
        "- **함수명**\n",
        "    - 함수명은 `average_age_by_team`로 작성해주세요.\n",
        "- **파라미터**\n",
        "    - 파라미터로 `members`를 넘겨받아 함수 내에서 접근할 수 있게 해주세요.\n",
        "    - `members`를 넘겨받는 파라미터의 identifier의 이름은 `members`와 겹치지 않게 `team_members`로 정의해주세요.\n",
        "    - 파라미터로 str 형식을 가지는 `team_name`을 입력받아주세요.\n",
        "- **함수내부**\n",
        "    - 평균을 계산하기 위한 중간값인 나이의 총 합은 `total_age`로 정의해주세요.\n",
        "    - 평균을 계산하기 위한 중간값인 팀원의 총 인원은 `headcount`로 정의해주세요.\n",
        "    - 나이의 평균은 `average_age_by_team` 함수 내에 `average_age`로 정의해주세요.\n",
        "    - `average_age`는 소속이 `team_name`인 모든 사원들의 나이의 평균입니다.\n",
        "    - `average_age`는 소수 셋째짜리에서 반올림하여 둘째짜리까지 나타내주세요.\n",
        "        - hint! 반올림을 해주는 built-in function은 `round`입니다.\n",
        "- **리턴값**\n",
        "    - `average_age`를 리턴해주세요."
      ],
      "metadata": {
        "id": "bXQ3F96iJa5S"
      }
    },
    {
      "cell_type": "code",
      "source": [
        "def average_age_by_team(members: list, team_name: str) -> float:\n",
        "  total_age = 0\n",
        "  headcount = 0\n",
        "  for member in members:\n",
        "    if member[\"소속\"] == team_name:\n",
        "      total_age+=member[\"나이\"]\n",
        "      headcount+=1\n",
        "  average_age = round(total_age/headcount, 2)\n",
        "  return average_age\n"
      ],
      "metadata": {
        "id": "friZeyEQJXUu"
      },
      "execution_count": 6,
      "outputs": []
    },
    {
      "cell_type": "markdown",
      "source": [
        "### [Q1-2] `average_age_by_team` 함수를 이용해 평균나이가 가장 적은 팀을 출력해주세요.\n",
        "\n",
        "### 참고사항\n",
        "\n",
        "- `keyword agrgument`로 파라미터를 전달해주세요.\n",
        "- 조건문을 사용해주세요.\n",
        "- 반복문을 사용해주세요."
      ],
      "metadata": {
        "id": "PH6nwkX8QDna"
      }
    },
    {
      "cell_type": "code",
      "source": [
        "age = []\n",
        "for i in list(team_prefix.keys()):\n",
        "  team_age = average_age_by_team(members = members, team_name = i)\n",
        "  age.append(team_age)\n",
        "  if min(age) == team_age:\n",
        "    min_team = i\n",
        "    min_age = team_age\n",
        "  else:\n",
        "    continue\n",
        "print(f\"{min_team}이 {min_age}세로 평균나이가 가장 적어요.\")\n"
      ],
      "metadata": {
        "colab": {
          "base_uri": "https://localhost:8080/"
        },
        "id": "j-g8m-_BJYHJ",
        "outputId": "b1ead446-3dc0-460f-aacd-aa27b5d2f7d2"
      },
      "execution_count": 42,
      "outputs": [
        {
          "output_type": "stream",
          "name": "stdout",
          "text": [
            "나무팀이 31.6세로 평균나이가 가장 적어요.\n"
          ]
        }
      ]
    },
    {
      "cell_type": "markdown",
      "source": [
        "## [Q2] 팀별 평균을 list 안에 dictionary 로 저장한 후에 평균나이가 적은 순으로 정렬해주세요."
      ],
      "metadata": {
        "id": "tNARBZgWTJcd"
      }
    },
    {
      "cell_type": "code",
      "source": [
        "from pprint import pprint\n",
        "age = []\n",
        "for i in list(team_prefix.keys()):\n",
        "  team_age = average_age_by_team(members = members, team_name = i)\n",
        "  age.append({\"팀이름\":i, \"평균나이\":team_age})\n",
        "age.sort(key=lambda x:x['평균나이'])\n",
        "pprint(age)\n",
        "for j in range(len(age)):\n",
        "  print(f\"{j+1}등 {age[j]['팀이름']}은 {age[j]['평균나이']}.\")"
      ],
      "metadata": {
        "colab": {
          "base_uri": "https://localhost:8080/"
        },
        "id": "WrYzTUiJJYUr",
        "outputId": "49fdfe21-ce79-418c-9982-1b0444fbecde"
      },
      "execution_count": 41,
      "outputs": [
        {
          "output_type": "stream",
          "name": "stdout",
          "text": [
            "[{'팀이름': '나무팀', '평균나이': 31.6},\n",
            " {'팀이름': '꽃팀', '평균나이': 32.6},\n",
            " {'팀이름': '열매팀', '평균나이': 36.33}]\n",
            "1등 나무팀은 31.6.\n",
            "2등 꽃팀은 32.6.\n",
            "3등 열매팀은 36.33.\n"
          ]
        }
      ]
    }
  ]
}