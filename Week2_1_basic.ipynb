{
  "nbformat": 4,
  "nbformat_minor": 0,
  "metadata": {
    "colab": {
      "provenance": [],
      "collapsed_sections": [],
      "authorship_tag": "ABX9TyOieuuWmzeiu8MqsckVXu1V",
      "include_colab_link": true
    },
    "kernelspec": {
      "name": "python3",
      "display_name": "Python 3"
    },
    "language_info": {
      "name": "python"
    }
  },
  "cells": [
    {
      "cell_type": "markdown",
      "metadata": {
        "id": "view-in-github",
        "colab_type": "text"
      },
      "source": [
        "<a href=\"https://colab.research.google.com/github/EYZ27/my_first_repository/blob/main/Week2_1_basic.ipynb\" target=\"_parent\"><img src=\"https://colab.research.google.com/assets/colab-badge.svg\" alt=\"Open In Colab\"/></a>"
      ]
    },
    {
      "cell_type": "code",
      "source": [
        "# 사전 정의 데이터\n",
        "members = [\n",
        "    {\n",
        "        '성': '김',\n",
        "        '이름': '이팝',\n",
        "        '소속': '나무팀',\n",
        "        '국적': '대한민국',\n",
        "        '나이': 40,\n",
        "    },\n",
        "    {\n",
        "        '성': '김',\n",
        "        '이름': '단풍',\n",
        "        '소속': '나무팀',\n",
        "        '국적': '대한민국',\n",
        "        '나이': 29,\n",
        "    },\n",
        "    {\n",
        "        '성': '이',\n",
        "        '이름': '버들',\n",
        "        '소속': '나무팀',\n",
        "        '국적': '대한민국',\n",
        "        '나이': 34,\n",
        "    },\n",
        "    {\n",
        "        '성': '박',\n",
        "        '이름': '바오밥',\n",
        "        '소속': '나무팀',\n",
        "        '국적': '대한민국',\n",
        "        '나이': 27,\n",
        "    },\n",
        "    {\n",
        "        '성': 'May',\n",
        "        '이름': 'Blossom',\n",
        "        '소속': '나무팀',\n",
        "        '국적': '미국',\n",
        "        '나이': 28,\n",
        "    },\n",
        "    {\n",
        "        '성': '김',\n",
        "        '이름': '샤프란',\n",
        "        '소속': '꽃팀',\n",
        "        '국적': '대한민국',\n",
        "        '나이': 42,\n",
        "    },\n",
        "    {\n",
        "        '성': '김',\n",
        "        '이름': '튤립',\n",
        "        '소속': '꽃팀',\n",
        "        '국적': '대한민국',\n",
        "        '나이': 37,\n",
        "    },\n",
        "    {\n",
        "        '성': '박',\n",
        "        '이름': '수선화',\n",
        "        '소속': '꽃팀',\n",
        "        '국적': '대한민국',\n",
        "        '나이': 33,\n",
        "    },\n",
        "    {\n",
        "        '성': '박',\n",
        "        '이름': '앵초',\n",
        "        '소속': '꽃팀',\n",
        "        '국적': '대한민국',\n",
        "        '나이': 28,\n",
        "    },\n",
        "    {\n",
        "        '성': 'Sharon',\n",
        "        '이름': 'Rose',\n",
        "        '소속': '꽃팀',\n",
        "        '국적': '미국',\n",
        "        '나이': 23,\n",
        "    },\n",
        "]"
      ],
      "metadata": {
        "id": "l4nAFayMU48L"
      },
      "execution_count": 2,
      "outputs": []
    },
    {
      "cell_type": "markdown",
      "source": [
        "## [Q1] if-elif-else 를 이용해서 김튤립 사원의 나이가 May Blossom 사원보다 많은지 적은지 출력해주세요.\n",
        "\n",
        "### 참고사항\n",
        "\n",
        "- May Blossom 사원의 index는 4입니다.\n",
        "- 김튤립 사원의 index는 6입니다."
      ],
      "metadata": {
        "id": "hNbSTyHJU0dH"
      }
    },
    {
      "cell_type": "code",
      "source": [
        "if members[4]['나이'] > members[6]['나이']:\n",
        "  print('May Blossom 사원은 김튤립 사원보다 나이가 많습니다.')\n",
        "elif members[4]['나이'] < members[6]['나이']:\n",
        "  print('May Blossom 사원은 김튤립 사원보다 나이가 적습니다.')\n",
        "else:\n",
        "    print('May Blossom 사원과 김튤립 사원은 나이가 같습니다.')"
      ],
      "metadata": {
        "id": "Yd4GF850U9Lu",
        "colab": {
          "base_uri": "https://localhost:8080/"
        },
        "outputId": "2e9d4fb4-da24-4373-df87-aa671d5bf599"
      },
      "execution_count": 13,
      "outputs": [
        {
          "output_type": "stream",
          "name": "stdout",
          "text": [
            "May Blossom 사원은 김튤립 사원보다 나이가 적습니다.\n"
          ]
        }
      ]
    },
    {
      "cell_type": "markdown",
      "source": [
        "## [Q2] Q1에서 작성한 조건문을 변수를 사용하도록 바꿔주세요.\n",
        "\n",
        "### 참고사항\n",
        "\n",
        "- 문장에서 주어가 되는 사원을 `standard_member` 변수에 저장해주세요.\n",
        "- 비교대상이 되는 사원을 `member_to_compare` 변수에 저장해주세요.\n",
        "- if, elif 조건문에 `standard_member`와 `member_to_compare` 변수를 사용해주세요.\n",
        "- 출력문에 `standard_member`와 `member_to_compare` 변수를 사용해주세요.(week1-4-advanced과제를 참고하면 도움이 될거에요.)"
      ],
      "metadata": {
        "id": "m3wbtmuaAEYi"
      }
    },
    {
      "cell_type": "code",
      "source": [
        "standard_member = members[4]\n",
        "member_to_compare = members[6]\n",
        "\n",
        "if standard_member['나이'] > member_to_compare['나이']:\n",
        "  print(standard_member['이름'],'사원은', member_to_compare['이름'], '사원보다 나이가 많습니다.')\n",
        "elif standard_member['나이'] < member_to_compare['나이']:\n",
        "  print(standard_member['이름'],'사원은', member_to_compare['이름'], '사원보다 나이가 적습니다.')\n",
        "else:\n",
        "  print(standard_member['이름'],'사원과', member_to_compare['이름'], '사원은 나이가 같습니다.')\n",
        "\n"
      ],
      "metadata": {
        "colab": {
          "base_uri": "https://localhost:8080/"
        },
        "id": "r0ZnkBDx__d8",
        "outputId": "833735ee-399b-4b17-f3db-b06cb088c8fe"
      },
      "execution_count": 12,
      "outputs": [
        {
          "output_type": "stream",
          "name": "stdout",
          "text": [
            "Blossom 사원은 튤립 사원보다 나이가 적습니다.\n"
          ]
        }
      ]
    },
    {
      "cell_type": "markdown",
      "source": [
        "## **[Q3] Q2에서 작성한 코드를 사용하여 `elif` 조건과 `else` 조건에 해당하는 사원이 나올 수 있도록, `standard_member`와 `member_to_compare`변수에 다른 사원을 할당해주세요.**\n",
        "\n",
        "### **[Q3-1] `elif` 조건인 `~나이가 많습니다` 가 나올 수 있도록 변경**"
      ],
      "metadata": {
        "id": "Rj36lHTlEOt0"
      }
    },
    {
      "cell_type": "code",
      "source": [
        "standard_member = members[6]\n",
        "member_to_compare = members[4]\n",
        "\n",
        "if standard_member['나이'] > member_to_compare['나이']:\n",
        "  print(standard_member['성']+standard_member['이름'],'사원은', member_to_compare['성']+member_to_compare['이름'], '사원보다 나이가 많습니다.')\n",
        "elif standard_member['나이'] < member_to_compare['나이']:\n",
        "  print(standard_member['성']+standard_member['이름'],'사원은', member_to_compare['성']+member_to_compare['이름'], '사원보다 나이가 적습니다.')\n",
        "else:\n",
        "  print(standard_member['성']+standard_member['이름'],'사원과', member_to_compare['성']+member_to_compare['이름'], '사원은 나이가 같습니다.')"
      ],
      "metadata": {
        "colab": {
          "base_uri": "https://localhost:8080/"
        },
        "id": "n3CJnsVOABrL",
        "outputId": "3b55f301-8bfe-4b4c-bf5a-51445853778a"
      },
      "execution_count": 17,
      "outputs": [
        {
          "output_type": "stream",
          "name": "stdout",
          "text": [
            "김튤립 사원은 MayBlossom 사원보다 나이가 많습니다.\n"
          ]
        }
      ]
    },
    {
      "cell_type": "markdown",
      "source": [
        "### **[Q3-2] 'else' 조건인 '~나이가 같습니다.' 가 나올 수 있도록 변경**"
      ],
      "metadata": {
        "id": "vZfll1AuEhjq"
      }
    },
    {
      "cell_type": "code",
      "source": [
        "standard_member = members[4]\n",
        "member_to_compare = members[8]\n",
        "\n",
        "if standard_member['나이'] > member_to_compare['나이']:\n",
        "  print(standard_member['성']+standard_member['이름'],'사원은', member_to_compare['성']+member_to_compare['이름'], '사원보다 나이가 많습니다.')\n",
        "elif standard_member['나이'] < member_to_compare['나이']:\n",
        "  print(standard_member['성']+standard_member['이름'],'사원은', member_to_compare['성']+member_to_compare['이름'], '사원보다 나이가 적습니다.')\n",
        "else:\n",
        "  print(standard_member['성']+standard_member['이름'],'사원과', member_to_compare['성']+member_to_compare['이름'], '사원은 나이가 같습니다.')"
      ],
      "metadata": {
        "colab": {
          "base_uri": "https://localhost:8080/"
        },
        "id": "iFKxMaWZEoSh",
        "outputId": "ab8bea2a-8154-4428-c3c0-cc259869c5d3"
      },
      "execution_count": 18,
      "outputs": [
        {
          "output_type": "stream",
          "name": "stdout",
          "text": [
            "MayBlossom 사원과 박앵초 사원은 나이가 같습니다.\n"
          ]
        }
      ]
    }
  ]
}