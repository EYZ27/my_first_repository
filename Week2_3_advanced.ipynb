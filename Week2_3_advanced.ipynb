{
  "nbformat": 4,
  "nbformat_minor": 0,
  "metadata": {
    "colab": {
      "provenance": [],
      "authorship_tag": "ABX9TyOcazNxCfHO3HQl5iS76Lii",
      "include_colab_link": true
    },
    "kernelspec": {
      "name": "python3",
      "display_name": "Python 3"
    },
    "language_info": {
      "name": "python"
    }
  },
  "cells": [
    {
      "cell_type": "markdown",
      "metadata": {
        "id": "view-in-github",
        "colab_type": "text"
      },
      "source": [
        "<a href=\"https://colab.research.google.com/github/EYZ27/my_first_repository/blob/main/Week2_3_advanced.ipynb\" target=\"_parent\"><img src=\"https://colab.research.google.com/assets/colab-badge.svg\" alt=\"Open In Colab\"/></a>"
      ]
    },
    {
      "cell_type": "code",
      "source": [
        "def greeting(greeting_person_name: str) -> list:\n",
        "    greeting_messages = None\n",
        "    greeting_messages = update_greeting_message(greeting_person_name)\n",
        "    return greeting_messages"
      ],
      "metadata": {
        "id": "AxnKFbv2izSd"
      },
      "execution_count": 2,
      "outputs": []
    },
    {
      "cell_type": "code",
      "execution_count": 4,
      "metadata": {
        "colab": {
          "base_uri": "https://localhost:8080/"
        },
        "id": "Xq06p5NOirkX",
        "outputId": "0502e4b0-3520-4eef-bf41-a98e7d8568ac"
      },
      "outputs": [
        {
          "output_type": "stream",
          "name": "stdout",
          "text": [
            "Hello, Jhon\n",
            "Bye, Jhon\n"
          ]
        }
      ],
      "source": [
        "def update_greeting_message(name: str) -> list:\n",
        "    return_messages = []\n",
        "    return_messages.append(\"Hello, \" + name)\n",
        "    return_messages.append(\"Bye, \" + name)\n",
        "    return return_messages\n",
        "\n",
        "def greeting(greeting_person_name: str) -> list:\n",
        "    greeting_messages = None\n",
        "    greeting_messages = update_greeting_message(greeting_person_name)\n",
        "    return greeting_messages\n",
        "\n",
        "returned_messages = greeting(\"Jhon\")\n",
        "\n",
        "for message in returned_messages:\n",
        "    print(message)"
      ]
    }
  ]
}