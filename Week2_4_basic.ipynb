{
  "nbformat": 4,
  "nbformat_minor": 0,
  "metadata": {
    "colab": {
      "provenance": [],
      "authorship_tag": "ABX9TyPSEbHwPUhfTyJ8MFpVS8Ya",
      "include_colab_link": true
    },
    "kernelspec": {
      "name": "python3",
      "display_name": "Python 3"
    },
    "language_info": {
      "name": "python"
    }
  },
  "cells": [
    {
      "cell_type": "markdown",
      "metadata": {
        "id": "view-in-github",
        "colab_type": "text"
      },
      "source": [
        "<a href=\"https://colab.research.google.com/github/EYZ27/my_first_repository/blob/main/Week2_4_basic.ipynb\" target=\"_parent\"><img src=\"https://colab.research.google.com/assets/colab-badge.svg\" alt=\"Open In Colab\"/></a>"
      ]
    },
    {
      "cell_type": "code",
      "execution_count": 1,
      "metadata": {
        "id": "iuYpXxvjmR1x"
      },
      "outputs": [],
      "source": [
        "\"\"\"\n",
        "사전정의 데이터 셀\n",
        "\"\"\"\n",
        "\n",
        "members = [\n",
        "    {\n",
        "        '성': '김',\n",
        "        '이름': '이팝',\n",
        "        '소속': '나무팀',\n",
        "        '국적': '대한민국',\n",
        "        '나이': 40,\n",
        "    },\n",
        "    {\n",
        "        '성': '김',\n",
        "        '이름': '단풍',\n",
        "        '소속': '나무팀',\n",
        "        '국적': '대한민국',\n",
        "        '나이': 29,\n",
        "    },\n",
        "    {\n",
        "        '성': '이',\n",
        "        '이름': '버들',\n",
        "        '소속': '나무팀',\n",
        "        '국적': '대한민국',\n",
        "        '나이': 34,\n",
        "    },\n",
        "    {\n",
        "        '성': '박',\n",
        "        '이름': '바오밥',\n",
        "        '소속': '나무팀',\n",
        "        '국적': '대한민국',\n",
        "        '나이': 27,\n",
        "    },\n",
        "    {\n",
        "        '성': 'May',\n",
        "        '이름': 'Blossom',\n",
        "        '소속': '나무팀',\n",
        "        '국적': '미국',\n",
        "        '나이': 28,\n",
        "    },\n",
        "    {\n",
        "        '성': '김',\n",
        "        '이름': '샤프란',\n",
        "        '소속': '꽃팀',\n",
        "        '국적': '대한민국',\n",
        "        '나이': 42,\n",
        "    },\n",
        "    {\n",
        "        '성': '김',\n",
        "        '이름': '튤립',\n",
        "        '소속': '꽃팀',\n",
        "        '국적': '대한민국',\n",
        "        '나이': 37,\n",
        "    },\n",
        "    {\n",
        "        '성': '박',\n",
        "        '이름': '수선화',\n",
        "        '소속': '꽃팀',\n",
        "        '국적': '대한민국',\n",
        "        '나이': 33,\n",
        "    },\n",
        "    {\n",
        "        '성': '박',\n",
        "        '이름': '앵초',\n",
        "        '소속': '꽃팀',\n",
        "        '국적': '대한민국',\n",
        "        '나이': 28,\n",
        "    },\n",
        "    {\n",
        "        '성': 'Sharon',\n",
        "        '이름': 'Rose',\n",
        "        '소속': '꽃팀',\n",
        "        '국적': '미국',\n",
        "        '나이': 23,\n",
        "    },\n",
        "    {\n",
        "        '성': '최',\n",
        "        '이름': '매실',\n",
        "        '소속': '열매팀',\n",
        "        '국적': '대한민국',\n",
        "        '나이': 50,\n",
        "    },\n",
        "    {\n",
        "        '성': '이',\n",
        "        '이름': '자두',\n",
        "        '소속': '열매팀',\n",
        "        '국적': '대한민국',\n",
        "        '나이': 33,\n",
        "    },\n",
        "    {\n",
        "        '성': '임',\n",
        "        '이름': '키위',\n",
        "        '소속': '열매팀',\n",
        "        '국적': '대한민국',\n",
        "        '나이': 26,\n",
        "    },\n",
        "]\n",
        "\n",
        "team_prefix = {\n",
        "    '나무팀': '파릇파릇한',\n",
        "    '꽃팀': '향긋한',\n",
        "    '열매팀': '달콤한',\n",
        "}"
      ]
    },
    {
      "cell_type": "markdown",
      "source": [
        "## [Q1] week2 - day1에서 만들었던 나이가 많은지 적은지 알려주는 코드를 함수화해주세요.\n",
        "\n",
        "### 참고사항\n",
        "\n",
        "- 함수 이름을 `compare_age` 로 정의하고, 함수 내의 `if`문의 조건식과 `elif`의 조건식을 작성해주세요.\n",
        "- `standard_member`와 `member_to_compare`를 파라미터로 받아주세요.\n",
        "- 함수 내에서 `print` 하지않고, `return` 값을 받아서 `print` 해주세요.\n",
        "- `positional argument`가 아닌 `keyword agrgument`로 파라미터를 전달해주세요.\n",
        "\n",
        "### 출력 예시\n",
        "- 김튤립 사원은 MayBlossom 사원보다 나이가 많습니다."
      ],
      "metadata": {
        "id": "I-5IlglpmZHo"
      }
    },
    {
      "cell_type": "code",
      "source": [
        "def compare_age(standard_member, member_to_compare):\n",
        "  std = members[standard_member]\n",
        "  comp = members[member_to_compare]\n",
        "  if std[\"국적\"] == \"대한민국\":\n",
        "    name_s = f\"{std['성']}{std['이름']}\"\n",
        "  else:\n",
        "    name_s = f\"{std['이름']} {std['성']}\"\n",
        "  if comp[\"국적\"] == \"대한민국\":\n",
        "    name_c = f\"{comp['성']}{comp['이름']}\"\n",
        "  else:\n",
        "    name_c = f\"{comp['이름']} {comp['성']}\"\n",
        "\n",
        "  if std[\"나이\"] > comp[\"나이\"]:\n",
        "    return f\"{name_s} 사원은 {name_c} 사원보다 나이가 많습니다.\"\n",
        "  elif std[\"나이\"] < comp[\"나이\"]:\n",
        "    return f\"{name_s} 사원은 {name_c} 사원보다 나이가 적습니다.\"\n",
        "  else:\n",
        "    return f\"{name_s} 사원과 {name_c} 사원은 나이가 같습니다.\"\n",
        "\n",
        "print(compare_age(standard_member=6, member_to_compare=4))"
      ],
      "metadata": {
        "colab": {
          "base_uri": "https://localhost:8080/"
        },
        "id": "qIVZly0dmkK-",
        "outputId": "b857ab19-177e-4d49-9448-fd26cd03286d"
      },
      "execution_count": 3,
      "outputs": [
        {
          "output_type": "stream",
          "name": "stdout",
          "text": [
            "김튤립 사원은 Blossom May 사원보다 나이가 많습니다.\n"
          ]
        }
      ]
    },
    {
      "cell_type": "markdown",
      "source": [
        "## [Q2] week2 - day2에서 만들었던 팀별 소개글을 작성하는 코드를 함수화해주세요.\n",
        "\n",
        "### 참고사항\n",
        "\n",
        "- 함수의 이름은 `generate_introduce`로 작성해주세요.\n",
        "- for문 내부의 if-else문을 함수로 감싸주세요.\n",
        "- `positional argument`가 아닌 `keyword agrgument`로 파라미터를 전달해주세요."
      ],
      "metadata": {
        "id": "9cRRw3dVpzMo"
      }
    },
    {
      "cell_type": "code",
      "source": [
        "def generate_introduce(member):\n",
        "  global team_prefix\n",
        "  if member['국적'] == '대한민국':\n",
        "    name = f\"{member['성']}{member['이름']}\"\n",
        "  else:\n",
        "    name = f\"{member['이름']} {member['성']}\"\n",
        "  return f\"안녕하세요, 저는 {team_prefix[member['소속']]} {member['소속']}의 {name}입니다.\"\n",
        "\n",
        "for member in members:\n",
        "  print(generate_introduce(member=member))"
      ],
      "metadata": {
        "colab": {
          "base_uri": "https://localhost:8080/"
        },
        "id": "CGmP4VoLp1C6",
        "outputId": "d6648338-3a73-4545-ad69-27abece6651b"
      },
      "execution_count": 5,
      "outputs": [
        {
          "output_type": "stream",
          "name": "stdout",
          "text": [
            "안녕하세요, 저는 파릇파릇한 나무팀의 김이팝입니다.\n",
            "안녕하세요, 저는 파릇파릇한 나무팀의 김단풍입니다.\n",
            "안녕하세요, 저는 파릇파릇한 나무팀의 이버들입니다.\n",
            "안녕하세요, 저는 파릇파릇한 나무팀의 박바오밥입니다.\n",
            "안녕하세요, 저는 파릇파릇한 나무팀의 Blossom May입니다.\n",
            "안녕하세요, 저는 향긋한 꽃팀의 김샤프란입니다.\n",
            "안녕하세요, 저는 향긋한 꽃팀의 김튤립입니다.\n",
            "안녕하세요, 저는 향긋한 꽃팀의 박수선화입니다.\n",
            "안녕하세요, 저는 향긋한 꽃팀의 박앵초입니다.\n",
            "안녕하세요, 저는 향긋한 꽃팀의 Rose Sharon입니다.\n",
            "안녕하세요, 저는 달콤한 열매팀의 최매실입니다.\n",
            "안녕하세요, 저는 달콤한 열매팀의 이자두입니다.\n",
            "안녕하세요, 저는 달콤한 열매팀의 임키위입니다.\n"
          ]
        }
      ]
    }
  ]
}