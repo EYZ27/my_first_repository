{
  "nbformat": 4,
  "nbformat_minor": 0,
  "metadata": {
    "colab": {
      "provenance": [],
      "authorship_tag": "ABX9TyO8EUsnT/oA2sdNdFP8ltHp",
      "include_colab_link": true
    },
    "kernelspec": {
      "name": "python3",
      "display_name": "Python 3"
    },
    "language_info": {
      "name": "python"
    }
  },
  "cells": [
    {
      "cell_type": "markdown",
      "metadata": {
        "id": "view-in-github",
        "colab_type": "text"
      },
      "source": [
        "<a href=\"https://colab.research.google.com/github/EYZ27/my_first_repository/blob/main/week4_basic.ipynb\" target=\"_parent\"><img src=\"https://colab.research.google.com/assets/colab-badge.svg\" alt=\"Open In Colab\"/></a>"
      ]
    },
    {
      "cell_type": "markdown",
      "source": [
        "## **[Q1] 리스트로 부서 내 사원들을 한 번에 모아서 출력해주세요.**\n",
        "\n",
        "### **[Q1-1] `my_team` 리스트에 위 세 명의 사원을 저장해주세요.**\n",
        "\n",
        "### **[Q1-2] `my_team` 리스트를 출력해주세요.**"
      ],
      "metadata": {
        "id": "5SqDvO6mClCP"
      }
    },
    {
      "cell_type": "code",
      "execution_count": 1,
      "metadata": {
        "colab": {
          "base_uri": "https://localhost:8080/"
        },
        "id": "Z3cKf_g4Cbsu",
        "outputId": "cff28e44-193c-47f5-fa41-c5514edee5b3"
      },
      "outputs": [
        {
          "output_type": "stream",
          "name": "stdout",
          "text": [
            "['김단풍', '이버들', '박바오밥']\n"
          ]
        }
      ],
      "source": [
        "my_team = ['김단풍', '이버들', '박바오밥']\n",
        "print(my_team)"
      ]
    },
    {
      "cell_type": "markdown",
      "source": [
        "## **[Q2] 튜플을 이용해 순서가 변하지 않게 데이터를 표현해보아요.**\n",
        "\n",
        "### **[Q2-1] `박바오밥`사원의 이름과 성을 나누어 튜플데이터로 만들고, `name`변수에 저장해주세요.**\n",
        "\n",
        "### **[Q2-2] 앞에서 저장한 `name` 변수를 아래 예시 포맷에 맞춰 출력해주세요.**"
      ],
      "metadata": {
        "id": "33Sejf6NDAi4"
      }
    },
    {
      "cell_type": "code",
      "source": [
        "name = ('박', '바오밥')\n",
        "# 예시 포맷이 무엇인가요?\n",
        "print(name[0]+name[1])"
      ],
      "metadata": {
        "colab": {
          "base_uri": "https://localhost:8080/"
        },
        "id": "mejDcXVSC8U0",
        "outputId": "0c1039a5-645b-4397-fc63-e83f6325c849"
      },
      "execution_count": 3,
      "outputs": [
        {
          "output_type": "stream",
          "name": "stdout",
          "text": [
            "박바오밥\n"
          ]
        }
      ]
    },
    {
      "cell_type": "markdown",
      "source": [
        "### **[Q2-3] `김단풍`, `이버들`, `박바오밥` 세 명의 사원을 성과 이름이 구분되게 `[성][이름]` 순으로 튜플로 표현한 뒤 `my_team2` 변수에 저장해주세요.**\n",
        "\n",
        "### **[Q2-4] 앞에서 저장한 `my_team2` 변수를 출력해주세요.**"
      ],
      "metadata": {
        "id": "4eKckV2-ECjg"
      }
    },
    {
      "cell_type": "code",
      "source": [
        "my_team2 = [('김', '단풍'), ('이', '버들'), ('박','바오밥')]\n",
        "for name in my_team2:\n",
        "  print(name[0]+name[1])"
      ],
      "metadata": {
        "colab": {
          "base_uri": "https://localhost:8080/"
        },
        "id": "TED_z37bDceh",
        "outputId": "b64bd157-8ac9-4514-bfaf-f3f9f4d096be"
      },
      "execution_count": 4,
      "outputs": [
        {
          "output_type": "stream",
          "name": "stdout",
          "text": [
            "김단풍\n",
            "이버들\n",
            "박바오밥\n"
          ]
        }
      ]
    },
    {
      "cell_type": "markdown",
      "source": [
        "## **[Q3] 딕셔너리를 이용해 사원들의 이름을 구분해주세요.**\n",
        "\n",
        "### **[Q3-1] 딕셔너리 `이름` key의 value에 `Blossom`을, 또 다른 `성` key의 value에 `May`를 할당한 뒤 `name2` 변수에 저장해주세요.**\n",
        "\n",
        "### **[Q3-2] 위에서 저장한 `name2` 변수를 출력해주세요.**"
      ],
      "metadata": {
        "id": "N3vCu_oLEAYt"
      }
    },
    {
      "cell_type": "code",
      "source": [
        "name2 = {'이름':'Blossom', '성':'May'}\n",
        "name2"
      ],
      "metadata": {
        "colab": {
          "base_uri": "https://localhost:8080/"
        },
        "id": "50q2vimQD9MC",
        "outputId": "03429149-a661-4e70-a9c2-e8b9322ced45"
      },
      "execution_count": 5,
      "outputs": [
        {
          "output_type": "execute_result",
          "data": {
            "text/plain": [
              "{'이름': 'Blossom', '성': 'May'}"
            ]
          },
          "metadata": {},
          "execution_count": 5
        }
      ]
    },
    {
      "cell_type": "markdown",
      "source": [
        "### **[Q3-3] `김단풍`, `이버들`, `박바오밥`, `Blossom May` 네 명의 사원을 `성`, `이름` 필드를 가진 딕셔너리로 표현한 뒤 `my_team3` 변수에 저장해주세요.**\n",
        "\n",
        "### **[Q3-4] 위에서 저장한 `my_team3` 변수를 출력해주세요.**"
      ],
      "metadata": {
        "id": "2lOhnlK1ERTA"
      }
    },
    {
      "cell_type": "code",
      "source": [
        "name3 = dict()\n",
        "name4 = dict()\n",
        "name5 = dict()\n",
        "my_team3 = [name3, name4, name5, name2]\n",
        "for i in range(len(my_team2)):\n",
        "  my_team3[i]['성'] = my_team2[i][0]\n",
        "  my_team3[i]['이름'] = my_team2[i][1]\n",
        "print(my_team3)"
      ],
      "metadata": {
        "colab": {
          "base_uri": "https://localhost:8080/"
        },
        "id": "71AsOwbjETSF",
        "outputId": "a62dddf8-4b82-419d-9f51-8d313c559843"
      },
      "execution_count": 9,
      "outputs": [
        {
          "output_type": "stream",
          "name": "stdout",
          "text": [
            "[{'성': '김', '이름': '단풍'}, {'성': '이', '이름': '버들'}, {'성': '박', '이름': '바오밥'}, {'이름': 'Blossom', '성': 'May'}]\n"
          ]
        }
      ]
    }
  ]
}