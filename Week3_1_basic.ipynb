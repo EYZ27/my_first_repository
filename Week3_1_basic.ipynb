{
  "nbformat": 4,
  "nbformat_minor": 0,
  "metadata": {
    "colab": {
      "provenance": [],
      "authorship_tag": "ABX9TyNGVM6PW4MJijgT9YOGR3+m",
      "include_colab_link": true
    },
    "kernelspec": {
      "name": "python3",
      "display_name": "Python 3"
    },
    "language_info": {
      "name": "python"
    }
  },
  "cells": [
    {
      "cell_type": "markdown",
      "metadata": {
        "id": "view-in-github",
        "colab_type": "text"
      },
      "source": [
        "<a href=\"https://colab.research.google.com/github/EYZ27/my_first_repository/blob/main/Week3_1_basic.ipynb\" target=\"_parent\"><img src=\"https://colab.research.google.com/assets/colab-badge.svg\" alt=\"Open In Colab\"/></a>"
      ]
    },
    {
      "cell_type": "markdown",
      "source": [
        "# 오늘 알아갈 내용은요\n",
        "\n",
        "- `Built-in Functions` 인 `len` `sum` `min` `max` 를 사용해봐요.\n",
        "- 우선 사전 정의 데이터 코드를 셀에 복사 붙여넣기해 정의해주세요.\n",
        "- **출력예시**의 내용이 나올 수 있도록 **코드예시**에서 `###코드작성###` 부분을 채워주세요."
      ],
      "metadata": {
        "id": "W5cFbaVNiEkI"
      }
    },
    {
      "cell_type": "code",
      "execution_count": 1,
      "metadata": {
        "id": "jyTNsCL-iDW6"
      },
      "outputs": [],
      "source": [
        "\"\"\"\n",
        "사전정의 데이터 셀\n",
        "\"\"\"\n",
        "members = [\n",
        "    {\n",
        "        '성': '김',\n",
        "        '이름': '이팝',\n",
        "        '소속': '나무팀',\n",
        "        '국적': '대한민국',\n",
        "        '나이': 40,\n",
        "    },\n",
        "    {\n",
        "        '성': '김',\n",
        "        '이름': '단풍',\n",
        "        '소속': '나무팀',\n",
        "        '국적': '대한민국',\n",
        "        '나이': 29,\n",
        "    },\n",
        "    {\n",
        "        '성': '이',\n",
        "        '이름': '버들',\n",
        "        '소속': '나무팀',\n",
        "        '국적': '대한민국',\n",
        "        '나이': 34,\n",
        "    },\n",
        "    {\n",
        "        '성': '박',\n",
        "        '이름': '바오밥',\n",
        "        '소속': '나무팀',\n",
        "        '국적': '대한민국',\n",
        "        '나이': 27,\n",
        "    },\n",
        "    {\n",
        "        '성': 'May',\n",
        "        '이름': 'Blossom',\n",
        "        '소속': '나무팀',\n",
        "        '국적': '미국',\n",
        "        '나이': 28,\n",
        "    },\n",
        "    {\n",
        "        '성': '김',\n",
        "        '이름': '샤프란',\n",
        "        '소속': '꽃팀',\n",
        "        '국적': '대한민국',\n",
        "        '나이': 42,\n",
        "    },\n",
        "    {\n",
        "        '성': '김',\n",
        "        '이름': '튤립',\n",
        "        '소속': '꽃팀',\n",
        "        '국적': '대한민국',\n",
        "        '나이': 37,\n",
        "    },\n",
        "    {\n",
        "        '성': '박',\n",
        "        '이름': '수선화',\n",
        "        '소속': '꽃팀',\n",
        "        '국적': '대한민국',\n",
        "        '나이': 33,\n",
        "    },\n",
        "    {\n",
        "        '성': '박',\n",
        "        '이름': '앵초',\n",
        "        '소속': '꽃팀',\n",
        "        '국적': '대한민국',\n",
        "        '나이': 28,\n",
        "    },\n",
        "    {\n",
        "        '성': 'Sharon',\n",
        "        '이름': 'Rose',\n",
        "        '소속': '꽃팀',\n",
        "        '국적': '미국',\n",
        "        '나이': 23,\n",
        "    },\n",
        "    {\n",
        "        '성': '최',\n",
        "        '이름': '매실',\n",
        "        '소속': '열매팀',\n",
        "        '국적': '대한민국',\n",
        "        '나이': 50,\n",
        "    },\n",
        "    {\n",
        "        '성': '이',\n",
        "        '이름': '자두',\n",
        "        '소속': '열매팀',\n",
        "        '국적': '대한민국',\n",
        "        '나이': 33,\n",
        "    },\n",
        "    {\n",
        "        '성': '임',\n",
        "        '이름': '키위',\n",
        "        '소속': '열매팀',\n",
        "        '국적': '대한민국',\n",
        "        '나이': 26,\n",
        "    },\n",
        "]\n",
        "\n",
        "prices = [300, 500, 350, 110, 280]"
      ]
    },
    {
      "cell_type": "markdown",
      "source": [
        "## [Q1] len을 이용해서 원하는 문자열을 my_string 변수에 저장하고 my_string 변수의 문자열의 길이를 출력해주세요."
      ],
      "metadata": {
        "id": "MDLrMmlHiJsS"
      }
    },
    {
      "cell_type": "code",
      "source": [
        "my_string = \"Do not reinvent the wheel\"\n",
        "print(f\"'{my_string}' 문자열의 길이는 {len(my_string)}입니다.\")"
      ],
      "metadata": {
        "colab": {
          "base_uri": "https://localhost:8080/"
        },
        "id": "NuOS_vR-iJBe",
        "outputId": "7b178572-166a-4581-a13a-846b0ef6a599"
      },
      "execution_count": 3,
      "outputs": [
        {
          "output_type": "stream",
          "name": "stdout",
          "text": [
            "'Do not reinvent the wheel' 문자열의 길이는 25입니다.\n"
          ]
        }
      ]
    },
    {
      "cell_type": "markdown",
      "source": [
        "## [Q2] len과 for loop를 이용해서 members에 저장된 모든 사원의 이름의 길이의 합을 구하고 출력해주세요."
      ],
      "metadata": {
        "id": "80b9fy2Iiu7M"
      }
    },
    {
      "cell_type": "code",
      "source": [
        "total_len_name = 0\n",
        "for member in members:\n",
        "  total_len_name += len(member[\"이름\"])\n",
        "print(f\"사원들 이름의 총 길이는 {total_len_name}입니다.\")"
      ],
      "metadata": {
        "colab": {
          "base_uri": "https://localhost:8080/"
        },
        "id": "9VWi-2lAiwTl",
        "outputId": "0d84d5ed-d025-470e-83a4-3a98b49b493f"
      },
      "execution_count": 4,
      "outputs": [
        {
          "output_type": "stream",
          "name": "stdout",
          "text": [
            "사원들 이름의 총 길이는 36입니다.\n"
          ]
        }
      ]
    },
    {
      "cell_type": "markdown",
      "source": [
        "## [Q3] 사전 정의된 데이터인 `prices` 변수의 `sum` `min`, `max` 를 구하고 출력해주세요.\n",
        "\n",
        "또 유용한 Built-in Functions로는 숫자를 다루는 `sum`, `min`, `max`가 있어요. 함수의 이름만 봐도 대략적으로 어떤 기능을 하는 함수인지 감이 오시나요?\n",
        "\n",
        "- sum: 합을 계산하는 함수\n",
        "- min: 최소값을 계산하는 함수\n",
        "- max: 최대값을 계산하는 함수\n",
        "\n",
        "### [Q3-1] 모든 상품의 가격의 합을 출력해주세요."
      ],
      "metadata": {
        "id": "1zc0f5LOjAjL"
      }
    },
    {
      "cell_type": "code",
      "source": [
        "print(f\"상품의 총 가격은 {sum(prices)}입니다.\")"
      ],
      "metadata": {
        "colab": {
          "base_uri": "https://localhost:8080/"
        },
        "id": "vNbzXbfGjClE",
        "outputId": "a38df775-51cd-41be-a0f4-72fa3344ae74"
      },
      "execution_count": 8,
      "outputs": [
        {
          "output_type": "stream",
          "name": "stdout",
          "text": [
            "상품의 총 가격은 1540입니다.\n"
          ]
        }
      ]
    },
    {
      "cell_type": "markdown",
      "source": [
        "### [Q3-2] 가장 높은 가격을 가진 상품의 가격을 출력해주세요."
      ],
      "metadata": {
        "id": "I4y-Enj1jiUq"
      }
    },
    {
      "cell_type": "code",
      "source": [
        "print(f\"상품 중 가장 높은 가격은 {max(prices)}입니다.\")"
      ],
      "metadata": {
        "colab": {
          "base_uri": "https://localhost:8080/"
        },
        "id": "Cs4TfmXUjjnX",
        "outputId": "9c2ed459-84d7-49a4-dcc8-0b679d16d4e7"
      },
      "execution_count": 9,
      "outputs": [
        {
          "output_type": "stream",
          "name": "stdout",
          "text": [
            "상품 중 가장 높은 가격은 500입니다.\n"
          ]
        }
      ]
    },
    {
      "cell_type": "markdown",
      "source": [
        "### [Q3-3] 가장 낮은 가격을 가진 상품의 가격을 출력해주세요."
      ],
      "metadata": {
        "id": "bV5joToOjtkT"
      }
    },
    {
      "cell_type": "code",
      "source": [
        "print(f\"상품 중 가장 낮은 가격은 {min(prices)}입니다.\")"
      ],
      "metadata": {
        "colab": {
          "base_uri": "https://localhost:8080/"
        },
        "id": "crUrxJdejulR",
        "outputId": "c50f8236-fbe4-4980-c20d-3f83fe9932b5"
      },
      "execution_count": 10,
      "outputs": [
        {
          "output_type": "stream",
          "name": "stdout",
          "text": [
            "상품 중 가장 낮은 가격은 110입니다.\n"
          ]
        }
      ]
    }
  ]
}